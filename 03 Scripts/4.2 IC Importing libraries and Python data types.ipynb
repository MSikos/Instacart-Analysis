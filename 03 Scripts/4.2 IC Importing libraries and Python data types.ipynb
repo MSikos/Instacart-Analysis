{
 "cells": [
  {
   "cell_type": "markdown",
   "id": "6ba7ea28-fff1-45bf-a152-9011ea1d69f3",
   "metadata": {},
   "source": [
    "# Importing libraries"
   ]
  },
  {
   "cell_type": "code",
   "execution_count": 4,
   "id": "c9dde13a-128e-4400-81b5-bfdcaf67356a",
   "metadata": {},
   "outputs": [],
   "source": [
    "# Import libraries\n",
    "import pandas as pd\n",
    "import numpy as np\n",
    "import os"
   ]
  },
  {
   "cell_type": "markdown",
   "id": "22d36c4a-e848-4bc1-8d6a-c8a7c68ad299",
   "metadata": {},
   "source": [
    "# Working with Python data types"
   ]
  },
  {
   "cell_type": "code",
   "execution_count": 81,
   "id": "784aafe5-fddb-434a-981f-9a7f1160f25f",
   "metadata": {},
   "outputs": [
    {
     "data": {
      "text/plain": [
       "100"
      ]
     },
     "execution_count": 81,
     "metadata": {},
     "output_type": "execute_result"
    }
   ],
   "source": [
    "# Adding and Subracting to 100\n",
    "a = 4\n",
    "a * 5 * 5"
   ]
  },
  {
   "cell_type": "code",
   "execution_count": 71,
   "id": "98037956-9a7a-4b35-af33-1d1266644765",
   "metadata": {},
   "outputs": [
    {
     "data": {
      "text/plain": [
       "True"
      ]
     },
     "execution_count": 71,
     "metadata": {},
     "output_type": "execute_result"
    }
   ],
   "source": [
    "d = 10\n",
    "e = d + d + d + d + d + d + d + d + d + d\n",
    "e == 100"
   ]
  },
  {
   "cell_type": "code",
   "execution_count": 73,
   "id": "c3f39a93-6eea-4096-9906-af43466d6f8a",
   "metadata": {},
   "outputs": [
    {
     "name": "stdout",
     "output_type": "stream",
     "text": [
      "100\n"
     ]
    }
   ],
   "source": [
    "f = 250\n",
    "g = 75\n",
    "h = f - g - g\n",
    "print(h)"
   ]
  },
  {
   "cell_type": "code",
   "execution_count": 75,
   "id": "f9c0b5dc-bfa3-49d2-8bf1-a7a45ced642b",
   "metadata": {},
   "outputs": [
    {
     "name": "stdout",
     "output_type": "stream",
     "text": [
      "2.52056408185245\n"
     ]
    }
   ],
   "source": [
    "# Floating point variables\n",
    "j = 7.4891\n",
    "k = 2.9712\n",
    "l = j / k\n",
    "print(l)"
   ]
  },
  {
   "cell_type": "code",
   "execution_count": 79,
   "id": "e00e9ba0-fa3b-47bf-b038-5bc8a79b62f8",
   "metadata": {},
   "outputs": [
    {
     "data": {
      "text/plain": [
       "'Strawberry'"
      ]
     },
     "execution_count": 79,
     "metadata": {},
     "output_type": "execute_result"
    }
   ],
   "source": [
    "# Concantentate strings\n",
    "m = 'Stra'\n",
    "n = 'wbe'\n",
    "o = 'rry'\n",
    "m + n + o"
   ]
  },
  {
   "cell_type": "code",
   "execution_count": 95,
   "id": "629375ec-75c0-45bc-929a-6c394cc341dc",
   "metadata": {},
   "outputs": [
    {
     "data": {
      "text/plain": [
       "\"Look, there's a cat. Is it chasing a rat? While wearing a hat? No, it wants to chat. Hello there, Miss Kitty Cat.\""
      ]
     },
     "execution_count": 95,
     "metadata": {},
     "output_type": "execute_result"
    }
   ],
   "source": [
    "# Create sentences\n",
    "p = \"Look, there's a \"\n",
    "q = \"cat. Is it chasing \"\n",
    "r = \"a rat? While \"\n",
    "s = \"wearing a hat? \"\n",
    "t = \"No, it wants \"\n",
    "u = \"to chat. \"\n",
    "v = \"Hello there, \"\n",
    "w = \"Miss Kitty Cat.\"\n",
    "p + q + r + s + t + u + v + w"
   ]
  },
  {
   "cell_type": "markdown",
   "id": "834c1840-22b1-457b-89d3-fbdca6966abe",
   "metadata": {},
   "source": [
    "# Bonus task"
   ]
  },
  {
   "cell_type": "code",
   "execution_count": 99,
   "id": "cd3e4b60-ae48-4517-ba75-c752f2c750b2",
   "metadata": {},
   "outputs": [
    {
     "data": {
      "text/plain": [
       "'MeowMeowMeowMeowMeowMeowMeowMeowMeowMeowMeowMeowMeowMeowMeowMeowMeowMeowMeowMeowMeowMeowMeowMeowMeowMeowMeowMeowMeowMeowMeowMeowMeowMeowMeowMeowMeowMeowMeowMeowMeowMeowMeowMeowMeowMeowMeowMeowMeowMeowMeowMeowMeowMeowMeowMeowMeowMeowMeowMeowMeowMeowMeowMeowMeowMeowMeowMeowMeowMeowMeowMeowMeowMeowMeowMeowMeowMeowMeowMeowMeowMeowMeowMeowMeowMeowMeowMeowMeowMeowMeowMeowMeowMeowMeowMeowMeowMeowMeowMeow'"
      ]
     },
     "execution_count": 99,
     "metadata": {},
     "output_type": "execute_result"
    }
   ],
   "source": [
    "# make a string appear 100 times\n",
    "x = \"Meow\"\n",
    "x * 100"
   ]
  },
  {
   "cell_type": "code",
   "execution_count": null,
   "id": "870d209f-7d6a-41c3-a991-16d894b4e10f",
   "metadata": {},
   "outputs": [],
   "source": []
  }
 ],
 "metadata": {
  "kernelspec": {
   "display_name": "Python 3 (ipykernel)",
   "language": "python",
   "name": "python3"
  },
  "language_info": {
   "codemirror_mode": {
    "name": "ipython",
    "version": 3
   },
   "file_extension": ".py",
   "mimetype": "text/x-python",
   "name": "python",
   "nbconvert_exporter": "python",
   "pygments_lexer": "ipython3",
   "version": "3.11.7"
  }
 },
 "nbformat": 4,
 "nbformat_minor": 5
}
